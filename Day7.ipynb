{
  "nbformat": 4,
  "nbformat_minor": 0,
  "metadata": {
    "colab": {
      "provenance": [],
      "authorship_tag": "ABX9TyN8oDvKMXib8s2oGE55cY2a",
      "include_colab_link": true
    },
    "kernelspec": {
      "name": "python3",
      "display_name": "Python 3"
    },
    "language_info": {
      "name": "python"
    }
  },
  "cells": [
    {
      "cell_type": "markdown",
      "metadata": {
        "id": "view-in-github",
        "colab_type": "text"
      },
      "source": [
        "<a href=\"https://colab.research.google.com/github/Sowmya-1305-hub/LMS-assignments/blob/main/Day7.ipynb\" target=\"_parent\"><img src=\"https://colab.research.google.com/assets/colab-badge.svg\" alt=\"Open In Colab\"/></a>"
      ]
    },
    {
      "cell_type": "code",
      "source": [
        "import nltk\n",
        "from nltk.corpus import stopwords\n",
        "import spacy\n",
        "\n",
        "# Download stopwords from NLTK if not already downloaded\n",
        "nltk.download('stopwords')\n",
        "\n",
        "# Load spaCy English model\n",
        "nlp = spacy.load(\"en_core_web_sm\")\n",
        "\n",
        "# Function to preprocess text\n",
        "def preprocess_text(text):\n",
        "    # Convert text to lowercase\n",
        "    text = text.lower()\n",
        "\n",
        "    # Tokenize and remove stopwords using NLTK\n",
        "    nltk_stopwords = set(stopwords.words('english'))\n",
        "    tokens = text.split()\n",
        "    filtered_tokens = [word for word in tokens if word not in nltk_stopwords]\n",
        "\n",
        "    return \" \".join(filtered_tokens)\n",
        "\n",
        "# Example input\n",
        "text = input(\"Enter the text: \")\n",
        "\n",
        "# Preprocess the text\n",
        "processed_text = preprocess_text(text)\n",
        "\n",
        "print(\"Processed Text:\")\n",
        "print(processed_text)\n"
      ],
      "metadata": {
        "colab": {
          "base_uri": "https://localhost:8080/"
        },
        "id": "t5rZig1y5jlA",
        "outputId": "74d1cd53-2bdc-4dfa-c7dd-a47d7c07df16"
      },
      "execution_count": 6,
      "outputs": [
        {
          "output_type": "stream",
          "name": "stderr",
          "text": [
            "[nltk_data] Downloading package stopwords to /root/nltk_data...\n",
            "[nltk_data]   Unzipping corpora/stopwords.zip.\n"
          ]
        },
        {
          "output_type": "stream",
          "name": "stdout",
          "text": [
            "Enter the text: hello\n",
            "Processed Text:\n",
            "hello\n"
          ]
        }
      ]
    }
  ]
}