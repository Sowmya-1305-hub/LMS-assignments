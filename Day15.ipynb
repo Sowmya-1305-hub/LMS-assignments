{
  "nbformat": 4,
  "nbformat_minor": 0,
  "metadata": {
    "colab": {
      "provenance": [],
      "authorship_tag": "ABX9TyNDXWmMNAseELIauV6fS8pt",
      "include_colab_link": true
    },
    "kernelspec": {
      "name": "python3",
      "display_name": "Python 3"
    },
    "language_info": {
      "name": "python"
    }
  },
  "cells": [
    {
      "cell_type": "markdown",
      "metadata": {
        "id": "view-in-github",
        "colab_type": "text"
      },
      "source": [
        "<a href=\"https://colab.research.google.com/github/Sowmya-1305-hub/LMS-assignments/blob/main/Day15.ipynb\" target=\"_parent\"><img src=\"https://colab.research.google.com/assets/colab-badge.svg\" alt=\"Open In Colab\"/></a>"
      ]
    },
    {
      "cell_type": "code",
      "source": [
        "import re\n",
        "\n",
        "def extract_emails(text):\n",
        "    \"\"\"\n",
        "    Extracts all email addresses from the given text.\n",
        "    :param text: str - The input text containing email addresses.\n",
        "    :return: list - A list of extracted email addresses.\n",
        "    \"\"\"\n",
        "    email_pattern = r'[a-zA-Z0-9._%+-]+@[a-zA-Z0-9.-]+\\.[a-zA-Z]{2,}'\n",
        "    return re.findall(email_pattern, text)\n",
        "\n",
        "# Test the function\n",
        "if __name__ == \"__main__\":\n",
        "    input_text = \"Contact us at support@example.com and sales@example.org.\"\n",
        "    emails = extract_emails(input_text)\n",
        "    print(emails)\n"
      ],
      "metadata": {
        "id": "vW_-Dkay29iJ",
        "outputId": "72f84011-75cb-4373-a8b0-434bfd52b30d",
        "colab": {
          "base_uri": "https://localhost:8080/"
        }
      },
      "execution_count": 2,
      "outputs": [
        {
          "output_type": "stream",
          "name": "stdout",
          "text": [
            "['support@example.com', 'sales@example.org']\n"
          ]
        }
      ]
    }
  ]
}