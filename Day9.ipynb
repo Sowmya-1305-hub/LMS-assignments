{
  "nbformat": 4,
  "nbformat_minor": 0,
  "metadata": {
    "colab": {
      "provenance": [],
      "authorship_tag": "ABX9TyNKP8I4ctyOUrP6Q4akhTUs",
      "include_colab_link": true
    },
    "kernelspec": {
      "name": "python3",
      "display_name": "Python 3"
    },
    "language_info": {
      "name": "python"
    }
  },
  "cells": [
    {
      "cell_type": "markdown",
      "metadata": {
        "id": "view-in-github",
        "colab_type": "text"
      },
      "source": [
        "<a href=\"https://colab.research.google.com/github/Sowmya-1305-hub/LMS-assignments/blob/main/Day9.ipynb\" target=\"_parent\"><img src=\"https://colab.research.google.com/assets/colab-badge.svg\" alt=\"Open In Colab\"/></a>"
      ]
    },
    {
      "cell_type": "code",
      "source": [
        "from gensim.parsing.preprocessing import remove_stopwords\n",
        "from gensim.utils import simple_preprocess\n",
        "from nltk.stem import SnowballStemmer\n",
        "from gensim.models import Phrases\n",
        "from gensim.models.phrases import Phraser\n",
        "from gensim.parsing.preprocessing import STOPWORDS\n",
        "from nltk.corpus import stopwords\n",
        "import nltk\n",
        "\n",
        "# Ensure required libraries are downloaded\n",
        "nltk.download(\"stopwords\")\n",
        "\n",
        "# Initialize stemmer\n",
        "stemmer = SnowballStemmer(\"english\")\n",
        "\n",
        "# Function to preprocess text\n",
        "def preprocess_text(text):\n",
        "    # Tokenization and lowercasing\n",
        "    tokens = simple_preprocess(text, deacc=True)  # deacc removes punctuations\n",
        "\n",
        "    # Stopword removal\n",
        "    nltk_stopwords = set(stopwords.words(\"english\"))\n",
        "    gensim_stopwords = STOPWORDS\n",
        "    all_stopwords = nltk_stopwords.union(gensim_stopwords)\n",
        "    tokens = [token for token in tokens if token not in all_stopwords]\n",
        "\n",
        "    # Stemming\n",
        "    stemmed_tokens = [stemmer.stem(token) for token in tokens]\n",
        "\n",
        "    return stemmed_tokens\n",
        "\n",
        "# Example: Text to preprocess\n",
        "text = \"\"\"\n",
        "This is an example text. Gensim preprocessing is designed for natural language processing.\n",
        "It includes tokenization, stopword removal, and stemming.\n",
        "\"\"\"\n",
        "\n",
        "# Preprocess the text\n",
        "processed_tokens = preprocess_text(text)\n",
        "\n",
        "# Print results\n",
        "print(\"Processed Tokens:\")\n",
        "print(processed_tokens)\n"
      ],
      "metadata": {
        "colab": {
          "base_uri": "https://localhost:8080/"
        },
        "id": "X9DVDwLZ7Jtf",
        "outputId": "a81151d7-84e9-4a81-ac14-35179e3b6f1a"
      },
      "execution_count": 9,
      "outputs": [
        {
          "output_type": "stream",
          "name": "stdout",
          "text": [
            "Processed Tokens:\n",
            "['exampl', 'text', 'gensim', 'preprocess', 'design', 'natur', 'languag', 'process', 'includ', 'token', 'stopword', 'remov', 'stem']\n"
          ]
        },
        {
          "output_type": "stream",
          "name": "stderr",
          "text": [
            "[nltk_data] Downloading package stopwords to /root/nltk_data...\n",
            "[nltk_data]   Package stopwords is already up-to-date!\n"
          ]
        }
      ]
    }
  ]
}