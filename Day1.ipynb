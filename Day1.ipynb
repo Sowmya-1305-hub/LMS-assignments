{
  "nbformat": 4,
  "nbformat_minor": 0,
  "metadata": {
    "colab": {
      "provenance": [],
      "authorship_tag": "ABX9TyM1/28quHZmcz3r0ljGaT2h",
      "include_colab_link": true
    },
    "kernelspec": {
      "name": "python3",
      "display_name": "Python 3"
    },
    "language_info": {
      "name": "python"
    }
  },
  "cells": [
    {
      "cell_type": "markdown",
      "metadata": {
        "id": "view-in-github",
        "colab_type": "text"
      },
      "source": [
        "<a href=\"https://colab.research.google.com/github/Sowmya-1305-hub/LMS-assignments/blob/main/Day1.ipynb\" target=\"_parent\"><img src=\"https://colab.research.google.com/assets/colab-badge.svg\" alt=\"Open In Colab\"/></a>"
      ]
    },
    {
      "cell_type": "code",
      "execution_count": 1,
      "metadata": {
        "colab": {
          "base_uri": "https://localhost:8080/"
        },
        "id": "sNrmSiOMsDOk",
        "outputId": "66ee2b29-b8ab-45c7-f303-fc8dd63102f2"
      },
      "outputs": [
        {
          "output_type": "stream",
          "name": "stdout",
          "text": [
            "Integer variable: 10  Type: <class 'int'>\n",
            "Float variable: 3.14  Type: <class 'float'>\n",
            "String variable: Hello, World!  Type: <class 'str'>\n",
            "Boolean variable: True  Type: <class 'bool'>\n"
          ]
        }
      ],
      "source": [
        "#!/usr/bin/env python\n",
        "# coding: utf-8\n",
        "\n",
        "# In[2]:\n",
        "\n",
        "\n",
        "integer_var = 10\n",
        "float_var = 3.14\n",
        "string_var = \"Hello, World!\"\n",
        "boolean_var = True\n",
        "\n",
        "print(\"Integer variable:\", integer_var, \" Type:\", type(integer_var))\n",
        "print(\"Float variable:\", float_var, \" Type:\", type(float_var))\n",
        "print(\"String variable:\", string_var, \" Type:\", type(string_var))\n",
        "print(\"Boolean variable:\", boolean_var, \" Type:\", type(boolean_var))"
      ]
    }
  ]
}